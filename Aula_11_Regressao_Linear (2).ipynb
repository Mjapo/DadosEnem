{
  "cells": [
    {
      "attachments": {},
      "cell_type": "markdown",
      "metadata": {
        "id": "SCi_f89_jIJm"
      },
      "source": [
        "# **Projeto Analytics**\n",
        "## **ANALISE DE MICRODADOS ENEM 2021**"
      ]
    },
    {
      "attachments": {},
      "cell_type": "markdown",
      "metadata": {
        "id": "4BsE4oE6lPNm"
      },
      "source": [
        "## **Importar os dados**"
      ]
    },
    {
      "cell_type": "code",
      "execution_count": 1,
      "metadata": {
        "id": "-p-_uKsWzfl5"
      },
      "outputs": [],
      "source": [
        "# libs ncessarias\n",
        "import pandas as pd\n",
        "import numpy as np\n",
        "import matplotlib.pyplot as plt\n",
        "import seaborn as sns\n",
        "import warnings\n",
        "warnings.filterwarnings('ignore')"
      ]
    },
    {
      "cell_type": "code",
      "execution_count": 2,
      "metadata": {
        "colab": {
          "base_uri": "https://localhost:8080/",
          "height": 206
        },
        "id": "JmQLPQTKvRJv",
        "outputId": "c3f66614-1fcb-4d0a-d1bb-c216d6a06195"
      },
      "outputs": [],
      "source": [
        "# importar a base\n",
        "Base_Dados = pd.read_csv('MICRODADOS_ENEM_2021.csv',sep=';', encoding= 'ISO-8859-1' )"
      ]
    },
    {
      "cell_type": "code",
      "execution_count": 3,
      "metadata": {},
      "outputs": [
        {
          "data": {
            "text/html": [
              "<div>\n",
              "<style scoped>\n",
              "    .dataframe tbody tr th:only-of-type {\n",
              "        vertical-align: middle;\n",
              "    }\n",
              "\n",
              "    .dataframe tbody tr th {\n",
              "        vertical-align: top;\n",
              "    }\n",
              "\n",
              "    .dataframe thead th {\n",
              "        text-align: right;\n",
              "    }\n",
              "</style>\n",
              "<table border=\"1\" class=\"dataframe\">\n",
              "  <thead>\n",
              "    <tr style=\"text-align: right;\">\n",
              "      <th></th>\n",
              "      <th>NU_INSCRICAO</th>\n",
              "      <th>NU_ANO</th>\n",
              "      <th>TP_FAIXA_ETARIA</th>\n",
              "      <th>TP_SEXO</th>\n",
              "      <th>TP_ESTADO_CIVIL</th>\n",
              "      <th>TP_COR_RACA</th>\n",
              "      <th>TP_NACIONALIDADE</th>\n",
              "      <th>TP_ST_CONCLUSAO</th>\n",
              "      <th>TP_ANO_CONCLUIU</th>\n",
              "      <th>TP_ESCOLA</th>\n",
              "      <th>...</th>\n",
              "      <th>Q016</th>\n",
              "      <th>Q017</th>\n",
              "      <th>Q018</th>\n",
              "      <th>Q019</th>\n",
              "      <th>Q020</th>\n",
              "      <th>Q021</th>\n",
              "      <th>Q022</th>\n",
              "      <th>Q023</th>\n",
              "      <th>Q024</th>\n",
              "      <th>Q025</th>\n",
              "    </tr>\n",
              "  </thead>\n",
              "  <tbody>\n",
              "    <tr>\n",
              "      <th>3</th>\n",
              "      <td>2,10052E+11</td>\n",
              "      <td>2021</td>\n",
              "      <td>3</td>\n",
              "      <td>M</td>\n",
              "      <td>1</td>\n",
              "      <td>3</td>\n",
              "      <td>1</td>\n",
              "      <td>2</td>\n",
              "      <td>0</td>\n",
              "      <td>2</td>\n",
              "      <td>...</td>\n",
              "      <td>A</td>\n",
              "      <td>A</td>\n",
              "      <td>A</td>\n",
              "      <td>B</td>\n",
              "      <td>A</td>\n",
              "      <td>A</td>\n",
              "      <td>B</td>\n",
              "      <td>A</td>\n",
              "      <td>B</td>\n",
              "      <td>B</td>\n",
              "    </tr>\n",
              "    <tr>\n",
              "      <th>4</th>\n",
              "      <td>2,10051E+11</td>\n",
              "      <td>2021</td>\n",
              "      <td>2</td>\n",
              "      <td>F</td>\n",
              "      <td>1</td>\n",
              "      <td>3</td>\n",
              "      <td>1</td>\n",
              "      <td>2</td>\n",
              "      <td>0</td>\n",
              "      <td>2</td>\n",
              "      <td>...</td>\n",
              "      <td>B</td>\n",
              "      <td>A</td>\n",
              "      <td>A</td>\n",
              "      <td>B</td>\n",
              "      <td>A</td>\n",
              "      <td>B</td>\n",
              "      <td>E</td>\n",
              "      <td>A</td>\n",
              "      <td>B</td>\n",
              "      <td>B</td>\n",
              "    </tr>\n",
              "    <tr>\n",
              "      <th>33</th>\n",
              "      <td>2,10053E+11</td>\n",
              "      <td>2021</td>\n",
              "      <td>3</td>\n",
              "      <td>M</td>\n",
              "      <td>1</td>\n",
              "      <td>1</td>\n",
              "      <td>1</td>\n",
              "      <td>2</td>\n",
              "      <td>0</td>\n",
              "      <td>2</td>\n",
              "      <td>...</td>\n",
              "      <td>A</td>\n",
              "      <td>A</td>\n",
              "      <td>A</td>\n",
              "      <td>B</td>\n",
              "      <td>A</td>\n",
              "      <td>A</td>\n",
              "      <td>C</td>\n",
              "      <td>A</td>\n",
              "      <td>B</td>\n",
              "      <td>B</td>\n",
              "    </tr>\n",
              "    <tr>\n",
              "      <th>45</th>\n",
              "      <td>2,10053E+11</td>\n",
              "      <td>2021</td>\n",
              "      <td>4</td>\n",
              "      <td>F</td>\n",
              "      <td>1</td>\n",
              "      <td>3</td>\n",
              "      <td>1</td>\n",
              "      <td>2</td>\n",
              "      <td>0</td>\n",
              "      <td>2</td>\n",
              "      <td>...</td>\n",
              "      <td>A</td>\n",
              "      <td>A</td>\n",
              "      <td>A</td>\n",
              "      <td>B</td>\n",
              "      <td>A</td>\n",
              "      <td>A</td>\n",
              "      <td>C</td>\n",
              "      <td>A</td>\n",
              "      <td>A</td>\n",
              "      <td>B</td>\n",
              "    </tr>\n",
              "    <tr>\n",
              "      <th>51</th>\n",
              "      <td>2,10051E+11</td>\n",
              "      <td>2021</td>\n",
              "      <td>3</td>\n",
              "      <td>M</td>\n",
              "      <td>1</td>\n",
              "      <td>3</td>\n",
              "      <td>1</td>\n",
              "      <td>2</td>\n",
              "      <td>0</td>\n",
              "      <td>2</td>\n",
              "      <td>...</td>\n",
              "      <td>A</td>\n",
              "      <td>A</td>\n",
              "      <td>A</td>\n",
              "      <td>B</td>\n",
              "      <td>A</td>\n",
              "      <td>A</td>\n",
              "      <td>D</td>\n",
              "      <td>A</td>\n",
              "      <td>B</td>\n",
              "      <td>B</td>\n",
              "    </tr>\n",
              "    <tr>\n",
              "      <th>...</th>\n",
              "      <td>...</td>\n",
              "      <td>...</td>\n",
              "      <td>...</td>\n",
              "      <td>...</td>\n",
              "      <td>...</td>\n",
              "      <td>...</td>\n",
              "      <td>...</td>\n",
              "      <td>...</td>\n",
              "      <td>...</td>\n",
              "      <td>...</td>\n",
              "      <td>...</td>\n",
              "      <td>...</td>\n",
              "      <td>...</td>\n",
              "      <td>...</td>\n",
              "      <td>...</td>\n",
              "      <td>...</td>\n",
              "      <td>...</td>\n",
              "      <td>...</td>\n",
              "      <td>...</td>\n",
              "      <td>...</td>\n",
              "      <td>...</td>\n",
              "    </tr>\n",
              "    <tr>\n",
              "      <th>1048551</th>\n",
              "      <td>2,10052E+11</td>\n",
              "      <td>2021</td>\n",
              "      <td>3</td>\n",
              "      <td>M</td>\n",
              "      <td>1</td>\n",
              "      <td>3</td>\n",
              "      <td>1</td>\n",
              "      <td>2</td>\n",
              "      <td>0</td>\n",
              "      <td>2</td>\n",
              "      <td>...</td>\n",
              "      <td>B</td>\n",
              "      <td>A</td>\n",
              "      <td>A</td>\n",
              "      <td>B</td>\n",
              "      <td>A</td>\n",
              "      <td>A</td>\n",
              "      <td>C</td>\n",
              "      <td>A</td>\n",
              "      <td>B</td>\n",
              "      <td>B</td>\n",
              "    </tr>\n",
              "    <tr>\n",
              "      <th>1048552</th>\n",
              "      <td>2,10052E+11</td>\n",
              "      <td>2021</td>\n",
              "      <td>3</td>\n",
              "      <td>M</td>\n",
              "      <td>1</td>\n",
              "      <td>1</td>\n",
              "      <td>1</td>\n",
              "      <td>2</td>\n",
              "      <td>0</td>\n",
              "      <td>2</td>\n",
              "      <td>...</td>\n",
              "      <td>A</td>\n",
              "      <td>A</td>\n",
              "      <td>A</td>\n",
              "      <td>B</td>\n",
              "      <td>A</td>\n",
              "      <td>A</td>\n",
              "      <td>C</td>\n",
              "      <td>A</td>\n",
              "      <td>A</td>\n",
              "      <td>B</td>\n",
              "    </tr>\n",
              "    <tr>\n",
              "      <th>1048554</th>\n",
              "      <td>2,10054E+11</td>\n",
              "      <td>2021</td>\n",
              "      <td>3</td>\n",
              "      <td>M</td>\n",
              "      <td>1</td>\n",
              "      <td>1</td>\n",
              "      <td>1</td>\n",
              "      <td>2</td>\n",
              "      <td>0</td>\n",
              "      <td>3</td>\n",
              "      <td>...</td>\n",
              "      <td>B</td>\n",
              "      <td>B</td>\n",
              "      <td>B</td>\n",
              "      <td>B</td>\n",
              "      <td>A</td>\n",
              "      <td>B</td>\n",
              "      <td>E</td>\n",
              "      <td>B</td>\n",
              "      <td>D</td>\n",
              "      <td>B</td>\n",
              "    </tr>\n",
              "    <tr>\n",
              "      <th>1048558</th>\n",
              "      <td>2,10054E+11</td>\n",
              "      <td>2021</td>\n",
              "      <td>3</td>\n",
              "      <td>F</td>\n",
              "      <td>1</td>\n",
              "      <td>3</td>\n",
              "      <td>2</td>\n",
              "      <td>2</td>\n",
              "      <td>0</td>\n",
              "      <td>2</td>\n",
              "      <td>...</td>\n",
              "      <td>A</td>\n",
              "      <td>A</td>\n",
              "      <td>A</td>\n",
              "      <td>B</td>\n",
              "      <td>B</td>\n",
              "      <td>A</td>\n",
              "      <td>C</td>\n",
              "      <td>A</td>\n",
              "      <td>B</td>\n",
              "      <td>B</td>\n",
              "    </tr>\n",
              "    <tr>\n",
              "      <th>1048572</th>\n",
              "      <td>2,10051E+11</td>\n",
              "      <td>2021</td>\n",
              "      <td>3</td>\n",
              "      <td>F</td>\n",
              "      <td>1</td>\n",
              "      <td>3</td>\n",
              "      <td>1</td>\n",
              "      <td>2</td>\n",
              "      <td>0</td>\n",
              "      <td>2</td>\n",
              "      <td>...</td>\n",
              "      <td>B</td>\n",
              "      <td>A</td>\n",
              "      <td>A</td>\n",
              "      <td>B</td>\n",
              "      <td>A</td>\n",
              "      <td>A</td>\n",
              "      <td>D</td>\n",
              "      <td>B</td>\n",
              "      <td>B</td>\n",
              "      <td>B</td>\n",
              "    </tr>\n",
              "  </tbody>\n",
              "</table>\n",
              "<p>236114 rows × 76 columns</p>\n",
              "</div>"
            ],
            "text/plain": [
              "        NU_INSCRICAO  NU_ANO  TP_FAIXA_ETARIA TP_SEXO  TP_ESTADO_CIVIL  \\\n",
              "3        2,10052E+11    2021                3       M                1   \n",
              "4        2,10051E+11    2021                2       F                1   \n",
              "33       2,10053E+11    2021                3       M                1   \n",
              "45       2,10053E+11    2021                4       F                1   \n",
              "51       2,10051E+11    2021                3       M                1   \n",
              "...              ...     ...              ...     ...              ...   \n",
              "1048551  2,10052E+11    2021                3       M                1   \n",
              "1048552  2,10052E+11    2021                3       M                1   \n",
              "1048554  2,10054E+11    2021                3       M                1   \n",
              "1048558  2,10054E+11    2021                3       F                1   \n",
              "1048572  2,10051E+11    2021                3       F                1   \n",
              "\n",
              "         TP_COR_RACA  TP_NACIONALIDADE  TP_ST_CONCLUSAO  TP_ANO_CONCLUIU  \\\n",
              "3                  3                 1                2                0   \n",
              "4                  3                 1                2                0   \n",
              "33                 1                 1                2                0   \n",
              "45                 3                 1                2                0   \n",
              "51                 3                 1                2                0   \n",
              "...              ...               ...              ...              ...   \n",
              "1048551            3                 1                2                0   \n",
              "1048552            1                 1                2                0   \n",
              "1048554            1                 1                2                0   \n",
              "1048558            3                 2                2                0   \n",
              "1048572            3                 1                2                0   \n",
              "\n",
              "         TP_ESCOLA  ...  Q016  Q017  Q018 Q019  Q020 Q021  Q022  Q023  Q024  \\\n",
              "3                2  ...     A     A     A    B     A    A     B     A     B   \n",
              "4                2  ...     B     A     A    B     A    B     E     A     B   \n",
              "33               2  ...     A     A     A    B     A    A     C     A     B   \n",
              "45               2  ...     A     A     A    B     A    A     C     A     A   \n",
              "51               2  ...     A     A     A    B     A    A     D     A     B   \n",
              "...            ...  ...   ...   ...   ...  ...   ...  ...   ...   ...   ...   \n",
              "1048551          2  ...     B     A     A    B     A    A     C     A     B   \n",
              "1048552          2  ...     A     A     A    B     A    A     C     A     A   \n",
              "1048554          3  ...     B     B     B    B     A    B     E     B     D   \n",
              "1048558          2  ...     A     A     A    B     B    A     C     A     B   \n",
              "1048572          2  ...     B     A     A    B     A    A     D     B     B   \n",
              "\n",
              "         Q025  \n",
              "3           B  \n",
              "4           B  \n",
              "33          B  \n",
              "45          B  \n",
              "51          B  \n",
              "...       ...  \n",
              "1048551     B  \n",
              "1048552     B  \n",
              "1048554     B  \n",
              "1048558     B  \n",
              "1048572     B  \n",
              "\n",
              "[236114 rows x 76 columns]"
            ]
          },
          "execution_count": 3,
          "metadata": {},
          "output_type": "execute_result"
        }
      ],
      "source": [
        "Base_Dados.dropna(how='any')"
      ]
    },
    {
      "cell_type": "code",
      "execution_count": 4,
      "metadata": {},
      "outputs": [],
      "source": [
        "Colunas = ['NU_NOTA_CN', 'NU_NOTA_CH', 'NU_NOTA_LC', 'NU_NOTA_MT', 'NU_NOTA_COMP1',\n",
        "           'NU_NOTA_COMP2', 'NU_NOTA_COMP3', 'NU_NOTA_COMP4', 'NU_NOTA_COMP5', 'NU_NOTA_REDACAO'\n",
        "            ]"
      ]
    },
    {
      "cell_type": "code",
      "execution_count": 5,
      "metadata": {},
      "outputs": [],
      "source": [
        "Base_Dados = Base_Dados.filter(items=Colunas)"
      ]
    },
    {
      "cell_type": "code",
      "execution_count": 6,
      "metadata": {},
      "outputs": [],
      "source": [
        "Base_Dados = Base_Dados.dropna()"
      ]
    },
    {
      "cell_type": "code",
      "execution_count": 7,
      "metadata": {},
      "outputs": [
        {
          "data": {
            "text/html": [
              "<div>\n",
              "<style scoped>\n",
              "    .dataframe tbody tr th:only-of-type {\n",
              "        vertical-align: middle;\n",
              "    }\n",
              "\n",
              "    .dataframe tbody tr th {\n",
              "        vertical-align: top;\n",
              "    }\n",
              "\n",
              "    .dataframe thead th {\n",
              "        text-align: right;\n",
              "    }\n",
              "</style>\n",
              "<table border=\"1\" class=\"dataframe\">\n",
              "  <thead>\n",
              "    <tr style=\"text-align: right;\">\n",
              "      <th></th>\n",
              "      <th>NU_NOTA_CN</th>\n",
              "      <th>NU_NOTA_CH</th>\n",
              "      <th>NU_NOTA_LC</th>\n",
              "      <th>NU_NOTA_MT</th>\n",
              "      <th>NU_NOTA_COMP1</th>\n",
              "      <th>NU_NOTA_COMP2</th>\n",
              "      <th>NU_NOTA_COMP3</th>\n",
              "      <th>NU_NOTA_COMP4</th>\n",
              "      <th>NU_NOTA_COMP5</th>\n",
              "      <th>NU_NOTA_REDACAO</th>\n",
              "    </tr>\n",
              "  </thead>\n",
              "  <tbody>\n",
              "    <tr>\n",
              "      <th>1</th>\n",
              "      <td>505.9</td>\n",
              "      <td>551.8</td>\n",
              "      <td>498.3</td>\n",
              "      <td>461.5</td>\n",
              "      <td>120.0</td>\n",
              "      <td>120.0</td>\n",
              "      <td>120.0</td>\n",
              "      <td>120.0</td>\n",
              "      <td>80.0</td>\n",
              "      <td>560.0</td>\n",
              "    </tr>\n",
              "    <tr>\n",
              "      <th>3</th>\n",
              "      <td>580.7</td>\n",
              "      <td>678.9</td>\n",
              "      <td>638.9</td>\n",
              "      <td>659.5</td>\n",
              "      <td>120.0</td>\n",
              "      <td>180.0</td>\n",
              "      <td>120.0</td>\n",
              "      <td>200.0</td>\n",
              "      <td>160.0</td>\n",
              "      <td>780.0</td>\n",
              "    </tr>\n",
              "    <tr>\n",
              "      <th>4</th>\n",
              "      <td>497.7</td>\n",
              "      <td>532.4</td>\n",
              "      <td>457.6</td>\n",
              "      <td>582.6</td>\n",
              "      <td>120.0</td>\n",
              "      <td>140.0</td>\n",
              "      <td>160.0</td>\n",
              "      <td>180.0</td>\n",
              "      <td>180.0</td>\n",
              "      <td>780.0</td>\n",
              "    </tr>\n",
              "    <tr>\n",
              "      <th>8</th>\n",
              "      <td>487.4</td>\n",
              "      <td>476.5</td>\n",
              "      <td>450.7</td>\n",
              "      <td>493.4</td>\n",
              "      <td>120.0</td>\n",
              "      <td>120.0</td>\n",
              "      <td>80.0</td>\n",
              "      <td>100.0</td>\n",
              "      <td>100.0</td>\n",
              "      <td>520.0</td>\n",
              "    </tr>\n",
              "    <tr>\n",
              "      <th>9</th>\n",
              "      <td>507.6</td>\n",
              "      <td>539.2</td>\n",
              "      <td>494.6</td>\n",
              "      <td>413.3</td>\n",
              "      <td>80.0</td>\n",
              "      <td>120.0</td>\n",
              "      <td>80.0</td>\n",
              "      <td>80.0</td>\n",
              "      <td>20.0</td>\n",
              "      <td>380.0</td>\n",
              "    </tr>\n",
              "  </tbody>\n",
              "</table>\n",
              "</div>"
            ],
            "text/plain": [
              "   NU_NOTA_CN  NU_NOTA_CH  NU_NOTA_LC  NU_NOTA_MT  NU_NOTA_COMP1  \\\n",
              "1       505.9       551.8       498.3       461.5          120.0   \n",
              "3       580.7       678.9       638.9       659.5          120.0   \n",
              "4       497.7       532.4       457.6       582.6          120.0   \n",
              "8       487.4       476.5       450.7       493.4          120.0   \n",
              "9       507.6       539.2       494.6       413.3           80.0   \n",
              "\n",
              "   NU_NOTA_COMP2  NU_NOTA_COMP3  NU_NOTA_COMP4  NU_NOTA_COMP5  NU_NOTA_REDACAO  \n",
              "1          120.0          120.0          120.0           80.0            560.0  \n",
              "3          180.0          120.0          200.0          160.0            780.0  \n",
              "4          140.0          160.0          180.0          180.0            780.0  \n",
              "8          120.0           80.0          100.0          100.0            520.0  \n",
              "9          120.0           80.0           80.0           20.0            380.0  "
            ]
          },
          "execution_count": 7,
          "metadata": {},
          "output_type": "execute_result"
        }
      ],
      "source": [
        "Base_Dados.head()"
      ]
    },
    {
      "cell_type": "code",
      "execution_count": 8,
      "metadata": {
        "colab": {
          "base_uri": "https://localhost:8080/"
        },
        "id": "Ap_NFSIKIEiO",
        "outputId": "20648a69-6687-47a2-c575-c3795e996817"
      },
      "outputs": [
        {
          "data": {
            "text/plain": [
              "Index(['NU_NOTA_CN', 'NU_NOTA_CH', 'NU_NOTA_LC', 'NU_NOTA_MT', 'NU_NOTA_COMP1',\n",
              "       'NU_NOTA_COMP2', 'NU_NOTA_COMP3', 'NU_NOTA_COMP4', 'NU_NOTA_COMP5',\n",
              "       'NU_NOTA_REDACAO'],\n",
              "      dtype='object')"
            ]
          },
          "execution_count": 8,
          "metadata": {},
          "output_type": "execute_result"
        }
      ],
      "source": [
        "# Colunas\n",
        "Base_Dados.columns"
      ]
    },
    {
      "cell_type": "code",
      "execution_count": 9,
      "metadata": {
        "id": "1jV_BQrHIVwt"
      },
      "outputs": [],
      "source": [
        "# Tradução\n",
        "Colunas_Traduzida = ['NU_NOTA_CN', 'NU_NOTA_CH', 'NU_NOTA_LC', 'NU_NOTA_MT', 'NU_NOTA_COMP1',\n",
        "           'NU_NOTA_COMP2', 'NU_NOTA_COMP3', 'NU_NOTA_COMP4', 'NU_NOTA_COMP5', 'NU_NOTA_REDACAO'\n",
        "    ]"
      ]
    },
    {
      "cell_type": "code",
      "execution_count": 10,
      "metadata": {
        "colab": {
          "base_uri": "https://localhost:8080/",
          "height": 206
        },
        "id": "Kn16m66DItl_",
        "outputId": "ca8bebd5-5a17-4088-f584-6fab889b0361"
      },
      "outputs": [
        {
          "data": {
            "text/html": [
              "<div>\n",
              "<style scoped>\n",
              "    .dataframe tbody tr th:only-of-type {\n",
              "        vertical-align: middle;\n",
              "    }\n",
              "\n",
              "    .dataframe tbody tr th {\n",
              "        vertical-align: top;\n",
              "    }\n",
              "\n",
              "    .dataframe thead th {\n",
              "        text-align: right;\n",
              "    }\n",
              "</style>\n",
              "<table border=\"1\" class=\"dataframe\">\n",
              "  <thead>\n",
              "    <tr style=\"text-align: right;\">\n",
              "      <th></th>\n",
              "      <th>NU_NOTA_CN</th>\n",
              "      <th>NU_NOTA_CH</th>\n",
              "      <th>NU_NOTA_LC</th>\n",
              "      <th>NU_NOTA_MT</th>\n",
              "      <th>NU_NOTA_COMP1</th>\n",
              "      <th>NU_NOTA_COMP2</th>\n",
              "      <th>NU_NOTA_COMP3</th>\n",
              "      <th>NU_NOTA_COMP4</th>\n",
              "      <th>NU_NOTA_COMP5</th>\n",
              "      <th>NU_NOTA_REDACAO</th>\n",
              "    </tr>\n",
              "  </thead>\n",
              "  <tbody>\n",
              "    <tr>\n",
              "      <th>1</th>\n",
              "      <td>505.9</td>\n",
              "      <td>551.8</td>\n",
              "      <td>498.3</td>\n",
              "      <td>461.5</td>\n",
              "      <td>120.0</td>\n",
              "      <td>120.0</td>\n",
              "      <td>120.0</td>\n",
              "      <td>120.0</td>\n",
              "      <td>80.0</td>\n",
              "      <td>560.0</td>\n",
              "    </tr>\n",
              "    <tr>\n",
              "      <th>3</th>\n",
              "      <td>580.7</td>\n",
              "      <td>678.9</td>\n",
              "      <td>638.9</td>\n",
              "      <td>659.5</td>\n",
              "      <td>120.0</td>\n",
              "      <td>180.0</td>\n",
              "      <td>120.0</td>\n",
              "      <td>200.0</td>\n",
              "      <td>160.0</td>\n",
              "      <td>780.0</td>\n",
              "    </tr>\n",
              "    <tr>\n",
              "      <th>4</th>\n",
              "      <td>497.7</td>\n",
              "      <td>532.4</td>\n",
              "      <td>457.6</td>\n",
              "      <td>582.6</td>\n",
              "      <td>120.0</td>\n",
              "      <td>140.0</td>\n",
              "      <td>160.0</td>\n",
              "      <td>180.0</td>\n",
              "      <td>180.0</td>\n",
              "      <td>780.0</td>\n",
              "    </tr>\n",
              "    <tr>\n",
              "      <th>8</th>\n",
              "      <td>487.4</td>\n",
              "      <td>476.5</td>\n",
              "      <td>450.7</td>\n",
              "      <td>493.4</td>\n",
              "      <td>120.0</td>\n",
              "      <td>120.0</td>\n",
              "      <td>80.0</td>\n",
              "      <td>100.0</td>\n",
              "      <td>100.0</td>\n",
              "      <td>520.0</td>\n",
              "    </tr>\n",
              "    <tr>\n",
              "      <th>9</th>\n",
              "      <td>507.6</td>\n",
              "      <td>539.2</td>\n",
              "      <td>494.6</td>\n",
              "      <td>413.3</td>\n",
              "      <td>80.0</td>\n",
              "      <td>120.0</td>\n",
              "      <td>80.0</td>\n",
              "      <td>80.0</td>\n",
              "      <td>20.0</td>\n",
              "      <td>380.0</td>\n",
              "    </tr>\n",
              "    <tr>\n",
              "      <th>10</th>\n",
              "      <td>650.9</td>\n",
              "      <td>617.9</td>\n",
              "      <td>631.7</td>\n",
              "      <td>796.7</td>\n",
              "      <td>180.0</td>\n",
              "      <td>200.0</td>\n",
              "      <td>200.0</td>\n",
              "      <td>200.0</td>\n",
              "      <td>200.0</td>\n",
              "      <td>980.0</td>\n",
              "    </tr>\n",
              "    <tr>\n",
              "      <th>11</th>\n",
              "      <td>378.5</td>\n",
              "      <td>502.7</td>\n",
              "      <td>487.7</td>\n",
              "      <td>514.9</td>\n",
              "      <td>160.0</td>\n",
              "      <td>140.0</td>\n",
              "      <td>140.0</td>\n",
              "      <td>120.0</td>\n",
              "      <td>120.0</td>\n",
              "      <td>680.0</td>\n",
              "    </tr>\n",
              "    <tr>\n",
              "      <th>12</th>\n",
              "      <td>537.6</td>\n",
              "      <td>476.5</td>\n",
              "      <td>553.2</td>\n",
              "      <td>509.7</td>\n",
              "      <td>100.0</td>\n",
              "      <td>120.0</td>\n",
              "      <td>120.0</td>\n",
              "      <td>120.0</td>\n",
              "      <td>100.0</td>\n",
              "      <td>560.0</td>\n",
              "    </tr>\n",
              "    <tr>\n",
              "      <th>15</th>\n",
              "      <td>462.2</td>\n",
              "      <td>402.2</td>\n",
              "      <td>403.3</td>\n",
              "      <td>445.8</td>\n",
              "      <td>80.0</td>\n",
              "      <td>160.0</td>\n",
              "      <td>80.0</td>\n",
              "      <td>100.0</td>\n",
              "      <td>120.0</td>\n",
              "      <td>540.0</td>\n",
              "    </tr>\n",
              "    <tr>\n",
              "      <th>16</th>\n",
              "      <td>487.9</td>\n",
              "      <td>419.9</td>\n",
              "      <td>488.2</td>\n",
              "      <td>553.1</td>\n",
              "      <td>140.0</td>\n",
              "      <td>120.0</td>\n",
              "      <td>140.0</td>\n",
              "      <td>160.0</td>\n",
              "      <td>160.0</td>\n",
              "      <td>720.0</td>\n",
              "    </tr>\n",
              "  </tbody>\n",
              "</table>\n",
              "</div>"
            ],
            "text/plain": [
              "    NU_NOTA_CN  NU_NOTA_CH  NU_NOTA_LC  NU_NOTA_MT  NU_NOTA_COMP1  \\\n",
              "1        505.9       551.8       498.3       461.5          120.0   \n",
              "3        580.7       678.9       638.9       659.5          120.0   \n",
              "4        497.7       532.4       457.6       582.6          120.0   \n",
              "8        487.4       476.5       450.7       493.4          120.0   \n",
              "9        507.6       539.2       494.6       413.3           80.0   \n",
              "10       650.9       617.9       631.7       796.7          180.0   \n",
              "11       378.5       502.7       487.7       514.9          160.0   \n",
              "12       537.6       476.5       553.2       509.7          100.0   \n",
              "15       462.2       402.2       403.3       445.8           80.0   \n",
              "16       487.9       419.9       488.2       553.1          140.0   \n",
              "\n",
              "    NU_NOTA_COMP2  NU_NOTA_COMP3  NU_NOTA_COMP4  NU_NOTA_COMP5  \\\n",
              "1           120.0          120.0          120.0           80.0   \n",
              "3           180.0          120.0          200.0          160.0   \n",
              "4           140.0          160.0          180.0          180.0   \n",
              "8           120.0           80.0          100.0          100.0   \n",
              "9           120.0           80.0           80.0           20.0   \n",
              "10          200.0          200.0          200.0          200.0   \n",
              "11          140.0          140.0          120.0          120.0   \n",
              "12          120.0          120.0          120.0          100.0   \n",
              "15          160.0           80.0          100.0          120.0   \n",
              "16          120.0          140.0          160.0          160.0   \n",
              "\n",
              "    NU_NOTA_REDACAO  \n",
              "1             560.0  \n",
              "3             780.0  \n",
              "4             780.0  \n",
              "8             520.0  \n",
              "9             380.0  \n",
              "10            980.0  \n",
              "11            680.0  \n",
              "12            560.0  \n",
              "15            540.0  \n",
              "16            720.0  "
            ]
          },
          "execution_count": 10,
          "metadata": {},
          "output_type": "execute_result"
        }
      ],
      "source": [
        "# Renomar as colinas\n",
        "Base_Dados.columns = Colunas_Traduzida\n",
        "\n",
        "# Verificando\n",
        "Base_Dados.head(10)"
      ]
    },
    {
      "cell_type": "code",
      "execution_count": 11,
      "metadata": {
        "colab": {
          "base_uri": "https://localhost:8080/"
        },
        "id": "ABE2cp7-J6YC",
        "outputId": "62f2ee5d-e08c-4b6a-860f-90780f761ae1"
      },
      "outputs": [
        {
          "data": {
            "text/plain": [
              "(778968, 10)"
            ]
          },
          "execution_count": 11,
          "metadata": {},
          "output_type": "execute_result"
        }
      ],
      "source": [
        "# Dimensão\n",
        "Base_Dados.shape"
      ]
    },
    {
      "cell_type": "code",
      "execution_count": 12,
      "metadata": {
        "colab": {
          "base_uri": "https://localhost:8080/"
        },
        "id": "INR91ds90GYn",
        "outputId": "db7d124e-b5f3-4c49-fda8-de0c6ebdb526"
      },
      "outputs": [
        {
          "name": "stdout",
          "output_type": "stream",
          "text": [
            "<class 'pandas.core.frame.DataFrame'>\n",
            "Int64Index: 778968 entries, 1 to 1048574\n",
            "Data columns (total 10 columns):\n",
            " #   Column           Non-Null Count   Dtype  \n",
            "---  ------           --------------   -----  \n",
            " 0   NU_NOTA_CN       778968 non-null  float64\n",
            " 1   NU_NOTA_CH       778968 non-null  float64\n",
            " 2   NU_NOTA_LC       778968 non-null  float64\n",
            " 3   NU_NOTA_MT       778968 non-null  float64\n",
            " 4   NU_NOTA_COMP1    778968 non-null  float64\n",
            " 5   NU_NOTA_COMP2    778968 non-null  float64\n",
            " 6   NU_NOTA_COMP3    778968 non-null  float64\n",
            " 7   NU_NOTA_COMP4    778968 non-null  float64\n",
            " 8   NU_NOTA_COMP5    778968 non-null  float64\n",
            " 9   NU_NOTA_REDACAO  778968 non-null  float64\n",
            "dtypes: float64(10)\n",
            "memory usage: 65.4 MB\n"
          ]
        }
      ],
      "source": [
        "# Infor\n",
        "Base_Dados.info()"
      ]
    },
    {
      "cell_type": "code",
      "execution_count": 13,
      "metadata": {
        "colab": {
          "base_uri": "https://localhost:8080/"
        },
        "id": "KqCgWL5UJvab",
        "outputId": "5cce6a33-f1f2-4164-d112-11b58eab7134"
      },
      "outputs": [
        {
          "data": {
            "text/plain": [
              "NU_NOTA_CN         0\n",
              "NU_NOTA_CH         0\n",
              "NU_NOTA_LC         0\n",
              "NU_NOTA_MT         0\n",
              "NU_NOTA_COMP1      0\n",
              "NU_NOTA_COMP2      0\n",
              "NU_NOTA_COMP3      0\n",
              "NU_NOTA_COMP4      0\n",
              "NU_NOTA_COMP5      0\n",
              "NU_NOTA_REDACAO    0\n",
              "dtype: int64"
            ]
          },
          "execution_count": 13,
          "metadata": {},
          "output_type": "execute_result"
        }
      ],
      "source": [
        "# Analise Nulos\n",
        "Base_Dados.isnull().sum()"
      ]
    },
    {
      "cell_type": "code",
      "execution_count": 14,
      "metadata": {
        "colab": {
          "base_uri": "https://localhost:8080/",
          "height": 488
        },
        "id": "glNG4UGm0ria",
        "outputId": "cc37749f-8aae-4cbf-8654-0818c06a8cd7"
      },
      "outputs": [
        {
          "data": {
            "text/html": [
              "<div>\n",
              "<style scoped>\n",
              "    .dataframe tbody tr th:only-of-type {\n",
              "        vertical-align: middle;\n",
              "    }\n",
              "\n",
              "    .dataframe tbody tr th {\n",
              "        vertical-align: top;\n",
              "    }\n",
              "\n",
              "    .dataframe thead th {\n",
              "        text-align: right;\n",
              "    }\n",
              "</style>\n",
              "<table border=\"1\" class=\"dataframe\">\n",
              "  <thead>\n",
              "    <tr style=\"text-align: right;\">\n",
              "      <th></th>\n",
              "      <th>count</th>\n",
              "      <th>mean</th>\n",
              "      <th>std</th>\n",
              "      <th>min</th>\n",
              "      <th>25%</th>\n",
              "      <th>50%</th>\n",
              "      <th>75%</th>\n",
              "      <th>max</th>\n",
              "    </tr>\n",
              "  </thead>\n",
              "  <tbody>\n",
              "    <tr>\n",
              "      <th>NU_NOTA_CN</th>\n",
              "      <td>778968.0</td>\n",
              "      <td>488.322539</td>\n",
              "      <td>80.776262</td>\n",
              "      <td>0.0</td>\n",
              "      <td>427.7</td>\n",
              "      <td>476.7</td>\n",
              "      <td>540.4</td>\n",
              "      <td>867.1</td>\n",
              "    </tr>\n",
              "    <tr>\n",
              "      <th>NU_NOTA_CH</th>\n",
              "      <td>778968.0</td>\n",
              "      <td>521.559648</td>\n",
              "      <td>93.839385</td>\n",
              "      <td>0.0</td>\n",
              "      <td>447.9</td>\n",
              "      <td>522.4</td>\n",
              "      <td>589.1</td>\n",
              "      <td>846.9</td>\n",
              "    </tr>\n",
              "    <tr>\n",
              "      <th>NU_NOTA_LC</th>\n",
              "      <td>778968.0</td>\n",
              "      <td>502.894612</td>\n",
              "      <td>78.022975</td>\n",
              "      <td>0.0</td>\n",
              "      <td>448.1</td>\n",
              "      <td>505.2</td>\n",
              "      <td>558.0</td>\n",
              "      <td>813.2</td>\n",
              "    </tr>\n",
              "    <tr>\n",
              "      <th>NU_NOTA_MT</th>\n",
              "      <td>778968.0</td>\n",
              "      <td>531.036687</td>\n",
              "      <td>109.844722</td>\n",
              "      <td>0.0</td>\n",
              "      <td>442.0</td>\n",
              "      <td>508.8</td>\n",
              "      <td>606.5</td>\n",
              "      <td>953.1</td>\n",
              "    </tr>\n",
              "    <tr>\n",
              "      <th>NU_NOTA_COMP1</th>\n",
              "      <td>778968.0</td>\n",
              "      <td>122.099624</td>\n",
              "      <td>32.272857</td>\n",
              "      <td>0.0</td>\n",
              "      <td>100.0</td>\n",
              "      <td>120.0</td>\n",
              "      <td>140.0</td>\n",
              "      <td>200.0</td>\n",
              "    </tr>\n",
              "    <tr>\n",
              "      <th>NU_NOTA_COMP2</th>\n",
              "      <td>778968.0</td>\n",
              "      <td>143.619430</td>\n",
              "      <td>44.353137</td>\n",
              "      <td>0.0</td>\n",
              "      <td>120.0</td>\n",
              "      <td>120.0</td>\n",
              "      <td>180.0</td>\n",
              "      <td>200.0</td>\n",
              "    </tr>\n",
              "    <tr>\n",
              "      <th>NU_NOTA_COMP3</th>\n",
              "      <td>778968.0</td>\n",
              "      <td>119.194396</td>\n",
              "      <td>35.252223</td>\n",
              "      <td>0.0</td>\n",
              "      <td>100.0</td>\n",
              "      <td>120.0</td>\n",
              "      <td>140.0</td>\n",
              "      <td>200.0</td>\n",
              "    </tr>\n",
              "    <tr>\n",
              "      <th>NU_NOTA_COMP4</th>\n",
              "      <td>778968.0</td>\n",
              "      <td>132.848179</td>\n",
              "      <td>37.891032</td>\n",
              "      <td>0.0</td>\n",
              "      <td>120.0</td>\n",
              "      <td>120.0</td>\n",
              "      <td>160.0</td>\n",
              "      <td>200.0</td>\n",
              "    </tr>\n",
              "    <tr>\n",
              "      <th>NU_NOTA_COMP5</th>\n",
              "      <td>778968.0</td>\n",
              "      <td>120.368590</td>\n",
              "      <td>59.124662</td>\n",
              "      <td>0.0</td>\n",
              "      <td>80.0</td>\n",
              "      <td>120.0</td>\n",
              "      <td>160.0</td>\n",
              "      <td>200.0</td>\n",
              "    </tr>\n",
              "    <tr>\n",
              "      <th>NU_NOTA_REDACAO</th>\n",
              "      <td>778968.0</td>\n",
              "      <td>638.130218</td>\n",
              "      <td>185.084496</td>\n",
              "      <td>0.0</td>\n",
              "      <td>540.0</td>\n",
              "      <td>620.0</td>\n",
              "      <td>780.0</td>\n",
              "      <td>1000.0</td>\n",
              "    </tr>\n",
              "  </tbody>\n",
              "</table>\n",
              "</div>"
            ],
            "text/plain": [
              "                    count        mean         std  min    25%    50%    75%  \\\n",
              "NU_NOTA_CN       778968.0  488.322539   80.776262  0.0  427.7  476.7  540.4   \n",
              "NU_NOTA_CH       778968.0  521.559648   93.839385  0.0  447.9  522.4  589.1   \n",
              "NU_NOTA_LC       778968.0  502.894612   78.022975  0.0  448.1  505.2  558.0   \n",
              "NU_NOTA_MT       778968.0  531.036687  109.844722  0.0  442.0  508.8  606.5   \n",
              "NU_NOTA_COMP1    778968.0  122.099624   32.272857  0.0  100.0  120.0  140.0   \n",
              "NU_NOTA_COMP2    778968.0  143.619430   44.353137  0.0  120.0  120.0  180.0   \n",
              "NU_NOTA_COMP3    778968.0  119.194396   35.252223  0.0  100.0  120.0  140.0   \n",
              "NU_NOTA_COMP4    778968.0  132.848179   37.891032  0.0  120.0  120.0  160.0   \n",
              "NU_NOTA_COMP5    778968.0  120.368590   59.124662  0.0   80.0  120.0  160.0   \n",
              "NU_NOTA_REDACAO  778968.0  638.130218  185.084496  0.0  540.0  620.0  780.0   \n",
              "\n",
              "                    max  \n",
              "NU_NOTA_CN        867.1  \n",
              "NU_NOTA_CH        846.9  \n",
              "NU_NOTA_LC        813.2  \n",
              "NU_NOTA_MT        953.1  \n",
              "NU_NOTA_COMP1     200.0  \n",
              "NU_NOTA_COMP2     200.0  \n",
              "NU_NOTA_COMP3     200.0  \n",
              "NU_NOTA_COMP4     200.0  \n",
              "NU_NOTA_COMP5     200.0  \n",
              "NU_NOTA_REDACAO  1000.0  "
            ]
          },
          "execution_count": 14,
          "metadata": {},
          "output_type": "execute_result"
        }
      ],
      "source": [
        "# estatística descritiva\n",
        "Base_Dados.describe().transpose()"
      ]
    },
    {
      "cell_type": "code",
      "execution_count": 15,
      "metadata": {
        "colab": {
          "base_uri": "https://localhost:8080/"
        },
        "id": "BuuRl8_1XE5h",
        "outputId": "2f4eb8f6-7e0c-48d7-d551-ba1aa58be526"
      },
      "outputs": [
        {
          "data": {
            "text/plain": [
              "NU_NOTA_CN         4605\n",
              "NU_NOTA_CH         4706\n",
              "NU_NOTA_LC         4567\n",
              "NU_NOTA_MT         5677\n",
              "NU_NOTA_COMP1        11\n",
              "NU_NOTA_COMP2        10\n",
              "NU_NOTA_COMP3        11\n",
              "NU_NOTA_COMP4        11\n",
              "NU_NOTA_COMP5        11\n",
              "NU_NOTA_REDACAO      50\n",
              "dtype: int64"
            ]
          },
          "execution_count": 15,
          "metadata": {},
          "output_type": "execute_result"
        }
      ],
      "source": [
        "# Unicos\n",
        "Base_Dados.nunique()"
      ]
    },
    {
      "attachments": {},
      "cell_type": "markdown",
      "metadata": {
        "id": "y1tS9cJmon_9"
      },
      "source": [
        "## **Análise de Correlação**"
      ]
    },
    {
      "attachments": {},
      "cell_type": "markdown",
      "metadata": {
        "id": "6XuBMlBFos9V"
      },
      "source": [
        "A correlação pode ser medida usando o coeficiente de correlação, como o coeficiente de correlação de Pearson, que varia de -1 a 1, indicando uma relação negativa perfeita, nenhuma relação e uma relação positiva perfeita, respectivamente."
      ]
    },
    {
      "attachments": {},
      "cell_type": "markdown",
      "metadata": {
        "id": "_KFgdOJwovYj"
      },
      "source": [
        "Uma forte correlação positiva entre as variáveis independentes e a variável dependente indica que as variáveis independentes estão altamente associadas à variável dependente e são úteis na previsão da variável dependente. Por outro lado, uma correlação fraca ou negativa indica que as variáveis independentes não estão relacionadas ou têm uma relação inversa com a variável dependente, e podem não ser úteis na previsão."
      ]
    },
    {
      "attachments": {},
      "cell_type": "markdown",
      "metadata": {
        "id": "To8B0hp_oxAU"
      },
      "source": [
        "No entanto, a correlação não implica causalidade e não deve ser interpretada como tal. É importante também avaliar outros aspectos do modelo, como a significância estatística das variáveis independentes, a multicolinearidade e a adequação do modelo aos dados."
      ]
    },
    {
      "cell_type": "code",
      "execution_count": 16,
      "metadata": {
        "colab": {
          "base_uri": "https://localhost:8080/",
          "height": 488
        },
        "id": "jxNZPHrcRvmZ",
        "outputId": "d87d90ba-4a77-4879-c88f-c0dde112cb1d"
      },
      "outputs": [
        {
          "data": {
            "text/html": [
              "<div>\n",
              "<style scoped>\n",
              "    .dataframe tbody tr th:only-of-type {\n",
              "        vertical-align: middle;\n",
              "    }\n",
              "\n",
              "    .dataframe tbody tr th {\n",
              "        vertical-align: top;\n",
              "    }\n",
              "\n",
              "    .dataframe thead th {\n",
              "        text-align: right;\n",
              "    }\n",
              "</style>\n",
              "<table border=\"1\" class=\"dataframe\">\n",
              "  <thead>\n",
              "    <tr style=\"text-align: right;\">\n",
              "      <th></th>\n",
              "      <th>NU_NOTA_MT</th>\n",
              "      <th>NU_NOTA_REDACAO</th>\n",
              "    </tr>\n",
              "  </thead>\n",
              "  <tbody>\n",
              "    <tr>\n",
              "      <th>NU_NOTA_CN</th>\n",
              "      <td>0.684464</td>\n",
              "      <td>0.492882</td>\n",
              "    </tr>\n",
              "    <tr>\n",
              "      <th>NU_NOTA_CH</th>\n",
              "      <td>0.638654</td>\n",
              "      <td>0.515136</td>\n",
              "    </tr>\n",
              "    <tr>\n",
              "      <th>NU_NOTA_LC</th>\n",
              "      <td>0.638886</td>\n",
              "      <td>0.535125</td>\n",
              "    </tr>\n",
              "    <tr>\n",
              "      <th>NU_NOTA_MT</th>\n",
              "      <td>1.000000</td>\n",
              "      <td>0.508627</td>\n",
              "    </tr>\n",
              "    <tr>\n",
              "      <th>NU_NOTA_COMP1</th>\n",
              "      <td>0.455061</td>\n",
              "      <td>0.854319</td>\n",
              "    </tr>\n",
              "    <tr>\n",
              "      <th>NU_NOTA_COMP2</th>\n",
              "      <td>0.421783</td>\n",
              "      <td>0.888448</td>\n",
              "    </tr>\n",
              "    <tr>\n",
              "      <th>NU_NOTA_COMP3</th>\n",
              "      <td>0.463350</td>\n",
              "      <td>0.912298</td>\n",
              "    </tr>\n",
              "    <tr>\n",
              "      <th>NU_NOTA_COMP4</th>\n",
              "      <td>0.467206</td>\n",
              "      <td>0.911421</td>\n",
              "    </tr>\n",
              "    <tr>\n",
              "      <th>NU_NOTA_COMP5</th>\n",
              "      <td>0.451730</td>\n",
              "      <td>0.869561</td>\n",
              "    </tr>\n",
              "    <tr>\n",
              "      <th>NU_NOTA_REDACAO</th>\n",
              "      <td>0.508627</td>\n",
              "      <td>1.000000</td>\n",
              "    </tr>\n",
              "  </tbody>\n",
              "</table>\n",
              "</div>"
            ],
            "text/plain": [
              "                 NU_NOTA_MT  NU_NOTA_REDACAO\n",
              "NU_NOTA_CN         0.684464         0.492882\n",
              "NU_NOTA_CH         0.638654         0.515136\n",
              "NU_NOTA_LC         0.638886         0.535125\n",
              "NU_NOTA_MT         1.000000         0.508627\n",
              "NU_NOTA_COMP1      0.455061         0.854319\n",
              "NU_NOTA_COMP2      0.421783         0.888448\n",
              "NU_NOTA_COMP3      0.463350         0.912298\n",
              "NU_NOTA_COMP4      0.467206         0.911421\n",
              "NU_NOTA_COMP5      0.451730         0.869561\n",
              "NU_NOTA_REDACAO    0.508627         1.000000"
            ]
          },
          "execution_count": 16,
          "metadata": {},
          "output_type": "execute_result"
        }
      ],
      "source": [
        "Base_Dados.corr()[['NU_NOTA_MT', 'NU_NOTA_REDACAO']]"
      ]
    },
    {
      "cell_type": "code",
      "execution_count": 17,
      "metadata": {
        "colab": {
          "base_uri": "https://localhost:8080/",
          "height": 578
        },
        "id": "UhVWCYueSfTX",
        "outputId": "17429d42-5edf-4f08-e011-2db29f5c1486"
      },
      "outputs": [
        {
          "data": {
            "image/png": "[encoded data removed]",
            "text/plain": [
              "<Figure size 1008x360 with 2 Axes>"
            ]
          },
          "metadata": {
            "needs_background": "light"
          },
          "output_type": "display_data"
        }
      ],
      "source": [
        "\n",
        "# Analise da correlação\n",
        "Correlacao = Base_Dados.corr()\n",
        "\n",
        "# Tamanho da imagem\n",
        "plt.figure( figsize=(14, 5) )\n",
        "\n",
        "# Estilo\n",
        "plt.style.use('seaborn-dark')\n",
        "\n",
        "# Titulo\n",
        "plt.title('Análise de Correlação', fontsize=14, loc='left')\n",
        "\n",
        "sns.heatmap( \n",
        "    Correlacao,\n",
        "    annot=True,\n",
        "    annot_kws={'fontsize': '10'},\n",
        "    mask = np.triu( np.ones_like( Correlacao, dtype=bool) )\n",
        "    );"
      ]
    },
    {
      "attachments": {},
      "cell_type": "markdown",
      "metadata": {
        "id": "v9nnZ-q2pJ2D"
      },
      "source": [
        "## **Separação dos dados**"
      ]
    },
    {
      "attachments": {},
      "cell_type": "markdown",
      "metadata": {
        "id": "BYX7NjQupSxI"
      },
      "source": [
        "**Caracteristicas**: Dados que compoe \n",
        "<br>\n",
        "**Previsor**: Variavel que quer prever"
      ]
    },
    {
      "cell_type": "code",
      "execution_count": 18,
      "metadata": {
        "colab": {
          "base_uri": "https://localhost:8080/"
        },
        "id": "GotNnN1c0vcj",
        "outputId": "a914eb22-9404-4b9a-b638-f1f6568b8d87"
      },
      "outputs": [
        {
          "data": {
            "text/plain": [
              "((778968, 9), (778968,))"
            ]
          },
          "execution_count": 18,
          "metadata": {},
          "output_type": "execute_result"
        }
      ],
      "source": [
        "# Separando entre Caracteristicas e Previsao\n",
        "Eixo_x = Base_Dados.drop( ['NU_NOTA_REDACAO'], axis=1 )\n",
        "Eixo_y = Base_Dados['NU_NOTA_MT']\n",
        "\n",
        "# Dimensao\n",
        "Eixo_x.shape, Eixo_y.shape"
      ]
    },
    {
      "attachments": {},
      "cell_type": "markdown",
      "metadata": {
        "id": "4hxf58RwLJl7"
      },
      "source": [
        "## **Divisão dos dados de treino e teste**"
      ]
    },
    {
      "attachments": {},
      "cell_type": "markdown",
      "metadata": {
        "id": "djRizL8GLVu-"
      },
      "source": [
        "Função: **train_test_split()**\n",
        "<br>\n",
        "A divisão é feita usando a função train_test_split() que é importada da biblioteca sklearn.model_selection."
      ]
    },
    {
      "attachments": {},
      "cell_type": "markdown",
      "metadata": {
        "id": "V9WtJALlLENw"
      },
      "source": [
        "Os parâmetros que são passados para a função train_test_split() são:\n",
        "\n",
        "**Eixo_x**: o conjunto de dados a ser dividido em dados de treinamento e teste para o eixo x.\n",
        "<br><br>\n",
        "**Eixo_y**: o conjunto de dados a ser dividido em dados de treinamento e teste para o eixo y.\n",
        "<br><br>\n",
        "**test_size**: o tamanho do conjunto de dados de teste. Neste caso, é definido como 0,20, o que significa que 20% dos dados serão usados como conjunto de teste e os 80% restantes serão usados como conjunto de treinamento.\n",
        "<br><br>\n",
        "**random_state**: é um número inteiro que é usado para inicializar o gerador de números aleatórios que é usado na divisão dos dados. Especificar um valor para random_state garante que a divisão dos dados seja sempre a mesma, o que é útil para fins de reprodução."
      ]
    },
    {
      "cell_type": "code",
      "execution_count": 19,
      "metadata": {
        "colab": {
          "base_uri": "https://localhost:8080/"
        },
        "id": "CHeGH7QzKgip",
        "outputId": "5c033b61-517a-43b8-e82f-05555b0ac8d8"
      },
      "outputs": [
        {
          "name": "stdout",
          "output_type": "stream",
          "text": [
            "Divisao dos nossos dados\n",
            "--------------------------------------------------\n",
            "< Atividade >\n",
            "Vamos treinar nosso algortimo\n",
            "(623174, 9) (623174,)\n",
            "--------------------------------------------------\n",
            "< Prova >\n",
            "Vamos testar nosso algortimo\n",
            "(155794, 9) (155794,)\n"
          ]
        }
      ],
      "source": [
        "# Importar\n",
        "from sklearn.model_selection import train_test_split\n",
        "\n",
        "# Fazer a sepação\n",
        "x_treino, x_teste, y_treino, y_teste = train_test_split(\n",
        "    Eixo_x,\n",
        "    Eixo_y,\n",
        "    test_size=0.20,\n",
        "    random_state=10\n",
        ")\n",
        "\n",
        "# Dimensao\n",
        "print('Divisao dos nossos dados')\n",
        "print( '-' * 50 )\n",
        "\n",
        "print('< Atividade >')\n",
        "print('Vamos treinar nosso algortimo')\n",
        "print( x_treino.shape, y_treino.shape )\n",
        "\n",
        "print( '-' * 50 )\n",
        "print('< Prova >')\n",
        "print('Vamos testar nosso algortimo')\n",
        "print( x_teste.shape, y_teste.shape )"
      ]
    },
    {
      "attachments": {},
      "cell_type": "markdown",
      "metadata": {
        "id": "VF2rI98qONzE"
      },
      "source": [
        "## **Treinamento do Modelo de Machine Learning**"
      ]
    },
    {
      "attachments": {},
      "cell_type": "markdown",
      "metadata": {
        "id": "GdWzj5M6p0I7"
      },
      "source": [
        "## **Gerando as previsões**"
      ]
    },
    {
      "attachments": {},
      "cell_type": "markdown",
      "metadata": {
        "id": "PzxRqfkzpwJ7"
      },
      "source": [
        "Precisamos criar as previsões para comparar com o valore real"
      ]
    },
    {
      "cell_type": "code",
      "execution_count": 20,
      "metadata": {},
      "outputs": [],
      "source": [
        "# Funçao da Regressão Linear ( Aprendizado de máquina ) -- Algoritmo/Calculos/Estatistica\n",
        "from sklearn.linear_model import LinearRegression"
      ]
    },
    {
      "cell_type": "code",
      "execution_count": 21,
      "metadata": {},
      "outputs": [],
      "source": [
        "\n",
        "# Instanciando o algortimo\n",
        "Funcao_Regressao = LinearRegression()"
      ]
    },
    {
      "cell_type": "code",
      "execution_count": 22,
      "metadata": {},
      "outputs": [
        {
          "data": {
            "text/html": [
              "<style>#sk-container-id-1 {color: black;background-color: white;}#sk-container-id-1 pre{padding: 0;}#sk-container-id-1 div.sk-toggleable {background-color: white;}#sk-container-id-1 label.sk-toggleable__label {cursor: pointer;display: block;width: 100%;margin-bottom: 0;padding: 0.3em;box-sizing: border-box;text-align: center;}#sk-container-id-1 label.sk-toggleable__label-arrow:before {content: \"▸\";float: left;margin-right: 0.25em;color: #696969;}#sk-container-id-1 label.sk-toggleable__label-arrow:hover:before {color: black;}#sk-container-id-1 div.sk-estimator:hover label.sk-toggleable__label-arrow:before {color: black;}#sk-container-id-1 div.sk-toggleable__content {max-height: 0;max-width: 0;overflow: hidden;text-align: left;background-color: #f0f8ff;}#sk-container-id-1 div.sk-toggleable__content pre {margin: 0.2em;color: black;border-radius: 0.25em;background-color: #f0f8ff;}#sk-container-id-1 input.sk-toggleable__control:checked~div.sk-toggleable__content {max-height: 200px;max-width: 100%;overflow: auto;}#sk-container-id-1 input.sk-toggleable__control:checked~label.sk-toggleable__label-arrow:before {content: \"▾\";}#sk-container-id-1 div.sk-estimator input.sk-toggleable__control:checked~label.sk-toggleable__label {background-color: #d4ebff;}#sk-container-id-1 div.sk-label input.sk-toggleable__control:checked~label.sk-toggleable__label {background-color: #d4ebff;}#sk-container-id-1 input.sk-hidden--visually {border: 0;clip: rect(1px 1px 1px 1px);clip: rect(1px, 1px, 1px, 1px);height: 1px;margin: -1px;overflow: hidden;padding: 0;position: absolute;width: 1px;}#sk-container-id-1 div.sk-estimator {font-family: monospace;background-color: #f0f8ff;border: 1px dotted black;border-radius: 0.25em;box-sizing: border-box;margin-bottom: 0.5em;}#sk-container-id-1 div.sk-estimator:hover {background-color: #d4ebff;}#sk-container-id-1 div.sk-parallel-item::after {content: \"\";width: 100%;border-bottom: 1px solid gray;flex-grow: 1;}#sk-container-id-1 div.sk-label:hover label.sk-toggleable__label {background-color: #d4ebff;}#sk-container-id-1 div.sk-serial::before {content: \"\";position: absolute;border-left: 1px solid gray;box-sizing: border-box;top: 0;bottom: 0;left: 50%;z-index: 0;}#sk-container-id-1 div.sk-serial {display: flex;flex-direction: column;align-items: center;background-color: white;padding-right: 0.2em;padding-left: 0.2em;position: relative;}#sk-container-id-1 div.sk-item {position: relative;z-index: 1;}#sk-container-id-1 div.sk-parallel {display: flex;align-items: stretch;justify-content: center;background-color: white;position: relative;}#sk-container-id-1 div.sk-item::before, #sk-container-id-1 div.sk-parallel-item::before {content: \"\";position: absolute;border-left: 1px solid gray;box-sizing: border-box;top: 0;bottom: 0;left: 50%;z-index: -1;}#sk-container-id-1 div.sk-parallel-item {display: flex;flex-direction: column;z-index: 1;position: relative;background-color: white;}#sk-container-id-1 div.sk-parallel-item:first-child::after {align-self: flex-end;width: 50%;}#sk-container-id-1 div.sk-parallel-item:last-child::after {align-self: flex-start;width: 50%;}#sk-container-id-1 div.sk-parallel-item:only-child::after {width: 0;}#sk-container-id-1 div.sk-dashed-wrapped {border: 1px dashed gray;margin: 0 0.4em 0.5em 0.4em;box-sizing: border-box;padding-bottom: 0.4em;background-color: white;}#sk-container-id-1 div.sk-label label {font-family: monospace;font-weight: bold;display: inline-block;line-height: 1.2em;}#sk-container-id-1 div.sk-label-container {text-align: center;}#sk-container-id-1 div.sk-container {/* jupyter's `normalize.less` sets `[hidden] { display: none; }` but bootstrap.min.css set `[hidden] { display: none !important; }` so we also need the `!important` here to be able to override the default hidden behavior on the sphinx rendered scikit-learn.org. See: https://github.com/scikit-learn/scikit-learn/issues/21755 */display: inline-block !important;position: relative;}#sk-container-id-1 div.sk-text-repr-fallback {display: none;}</style><div id=\"sk-container-id-1\" class=\"sk-top-container\"><div class=\"sk-text-repr-fallback\"><pre>LinearRegression()</pre><b>In a Jupyter environment, please rerun this cell to show the HTML representation or trust the notebook. <br />On GitHub, the HTML representation is unable to render, please try loading this page with nbviewer.org.</b></div><div class=\"sk-container\" hidden><div class=\"sk-item\"><div class=\"sk-estimator sk-toggleable\"><input class=\"sk-toggleable__control sk-hidden--visually\" id=\"sk-estimator-id-1\" type=\"checkbox\" checked><label for=\"sk-estimator-id-1\" class=\"sk-toggleable__label sk-toggleable__label-arrow\">LinearRegression</label><div class=\"sk-toggleable__content\"><pre>LinearRegression()</pre></div></div></div></div></div>"
            ],
            "text/plain": [
              "LinearRegression()"
            ]
          },
          "execution_count": 22,
          "metadata": {},
          "output_type": "execute_result"
        }
      ],
      "source": [
        "# O método fit é uma função que usamos em modelos de \n",
        "# aprendizado de máquina para \"ensinar\" o modelo a fazer previsões \n",
        "# com base em dados de treinamento.\n",
        "Funcao_Regressao.fit( x_treino, y_treino )"
      ]
    },
    {
      "cell_type": "code",
      "execution_count": 23,
      "metadata": {
        "id": "ps1at8N0Oijw"
      },
      "outputs": [],
      "source": [
        "# Criar as previsões\n",
        "Previsoes = Funcao_Regressao.predict( x_teste )"
      ]
    },
    {
      "cell_type": "code",
      "execution_count": 24,
      "metadata": {
        "colab": {
          "base_uri": "https://localhost:8080/",
          "height": 206
        },
        "id": "KQjbzcGasT4x",
        "outputId": "aad94854-e4f7-4721-be51-e04531cbf803"
      },
      "outputs": [
        {
          "data": {
            "text/html": [
              "<div>\n",
              "<style scoped>\n",
              "    .dataframe tbody tr th:only-of-type {\n",
              "        vertical-align: middle;\n",
              "    }\n",
              "\n",
              "    .dataframe tbody tr th {\n",
              "        vertical-align: top;\n",
              "    }\n",
              "\n",
              "    .dataframe thead th {\n",
              "        text-align: right;\n",
              "    }\n",
              "</style>\n",
              "<table border=\"1\" class=\"dataframe\">\n",
              "  <thead>\n",
              "    <tr style=\"text-align: right;\">\n",
              "      <th></th>\n",
              "      <th>NU_NOTA_CN</th>\n",
              "      <th>NU_NOTA_CH</th>\n",
              "      <th>NU_NOTA_LC</th>\n",
              "      <th>NU_NOTA_MT</th>\n",
              "      <th>NU_NOTA_COMP1</th>\n",
              "      <th>NU_NOTA_COMP2</th>\n",
              "      <th>NU_NOTA_COMP3</th>\n",
              "      <th>NU_NOTA_COMP4</th>\n",
              "      <th>NU_NOTA_COMP5</th>\n",
              "    </tr>\n",
              "  </thead>\n",
              "  <tbody>\n",
              "    <tr>\n",
              "      <th>672983</th>\n",
              "      <td>479.3</td>\n",
              "      <td>600.1</td>\n",
              "      <td>546.5</td>\n",
              "      <td>616.4</td>\n",
              "      <td>100.0</td>\n",
              "      <td>160.0</td>\n",
              "      <td>160.0</td>\n",
              "      <td>160.0</td>\n",
              "      <td>140.0</td>\n",
              "    </tr>\n",
              "    <tr>\n",
              "      <th>896388</th>\n",
              "      <td>400.8</td>\n",
              "      <td>404.8</td>\n",
              "      <td>402.3</td>\n",
              "      <td>566.9</td>\n",
              "      <td>100.0</td>\n",
              "      <td>120.0</td>\n",
              "      <td>80.0</td>\n",
              "      <td>100.0</td>\n",
              "      <td>40.0</td>\n",
              "    </tr>\n",
              "    <tr>\n",
              "      <th>181430</th>\n",
              "      <td>514.1</td>\n",
              "      <td>506.0</td>\n",
              "      <td>492.4</td>\n",
              "      <td>495.6</td>\n",
              "      <td>100.0</td>\n",
              "      <td>160.0</td>\n",
              "      <td>120.0</td>\n",
              "      <td>120.0</td>\n",
              "      <td>140.0</td>\n",
              "    </tr>\n",
              "    <tr>\n",
              "      <th>609724</th>\n",
              "      <td>362.1</td>\n",
              "      <td>496.8</td>\n",
              "      <td>335.4</td>\n",
              "      <td>378.8</td>\n",
              "      <td>100.0</td>\n",
              "      <td>120.0</td>\n",
              "      <td>120.0</td>\n",
              "      <td>120.0</td>\n",
              "      <td>0.0</td>\n",
              "    </tr>\n",
              "    <tr>\n",
              "      <th>720463</th>\n",
              "      <td>437.8</td>\n",
              "      <td>572.7</td>\n",
              "      <td>459.2</td>\n",
              "      <td>448.9</td>\n",
              "      <td>100.0</td>\n",
              "      <td>140.0</td>\n",
              "      <td>80.0</td>\n",
              "      <td>100.0</td>\n",
              "      <td>100.0</td>\n",
              "    </tr>\n",
              "  </tbody>\n",
              "</table>\n",
              "</div>"
            ],
            "text/plain": [
              "        NU_NOTA_CN  NU_NOTA_CH  NU_NOTA_LC  NU_NOTA_MT  NU_NOTA_COMP1  \\\n",
              "672983       479.3       600.1       546.5       616.4          100.0   \n",
              "896388       400.8       404.8       402.3       566.9          100.0   \n",
              "181430       514.1       506.0       492.4       495.6          100.0   \n",
              "609724       362.1       496.8       335.4       378.8          100.0   \n",
              "720463       437.8       572.7       459.2       448.9          100.0   \n",
              "\n",
              "        NU_NOTA_COMP2  NU_NOTA_COMP3  NU_NOTA_COMP4  NU_NOTA_COMP5  \n",
              "672983          160.0          160.0          160.0          140.0  \n",
              "896388          120.0           80.0          100.0           40.0  \n",
              "181430          160.0          120.0          120.0          140.0  \n",
              "609724          120.0          120.0          120.0            0.0  \n",
              "720463          140.0           80.0          100.0          100.0  "
            ]
          },
          "execution_count": 24,
          "metadata": {},
          "output_type": "execute_result"
        }
      ],
      "source": [
        "x_teste.head(5)"
      ]
    },
    {
      "cell_type": "code",
      "execution_count": 25,
      "metadata": {
        "colab": {
          "base_uri": "https://localhost:8080/"
        },
        "id": "Ti6sYlaAr0nT",
        "outputId": "5669cdc0-d1fb-45d6-f73f-9a1699c3bcbb"
      },
      "outputs": [
        {
          "data": {
            "text/plain": [
              "array([616.4, 566.9, 495.6, 378.8, 448.9])"
            ]
          },
          "execution_count": 25,
          "metadata": {},
          "output_type": "execute_result"
        }
      ],
      "source": [
        "Previsoes[0:5]"
      ]
    },
    {
      "cell_type": "code",
      "execution_count": 26,
      "metadata": {
        "colab": {
          "base_uri": "https://localhost:8080/"
        },
        "id": "xJCnSod1r0q7",
        "outputId": "ba961994-c6f2-44c9-d6a4-070003126607"
      },
      "outputs": [
        {
          "data": {
            "text/plain": [
              "array([616.4, 566.9, 495.6, 378.8, 448.9])"
            ]
          },
          "execution_count": 26,
          "metadata": {},
          "output_type": "execute_result"
        }
      ],
      "source": [
        "y_teste[0:5].values"
      ]
    },
    {
      "cell_type": "code",
      "execution_count": 31,
      "metadata": {
        "colab": {
          "base_uri": "https://localhost:8080/"
        },
        "id": "wCWAjHLI1n2Q",
        "outputId": "fbf030d2-fa54-46c3-bafb-cfa630ac3e17"
      },
      "outputs": [],
      "source": [
        "# Selecione apenas os recursos do conjunto de teste\n",
        "x_teste = Base_Dados.drop('NU_NOTA_REDACAO', axis=1).head(1)\n",
        "\n",
        "# Adicione a coluna 'NU_NOTA_MT' ao conjunto de teste\n",
        "x_teste['NU_NOTA_MT'] = 0\n",
        "\n",
        "# Faça a previsão usando o conjunto de teste\n",
        "previsao = Funcao_Regressao.predict(x_teste)"
      ]
    },
    {
      "cell_type": "code",
      "execution_count": 32,
      "metadata": {
        "colab": {
          "base_uri": "https://localhost:8080/",
          "height": 81
        },
        "id": "vTFLtiFw1n5E",
        "outputId": "f5800a0f-9b2d-468f-ae1f-a5fa57abd0e6"
      },
      "outputs": [
        {
          "data": {
            "text/html": [
              "<div>\n",
              "<style scoped>\n",
              "    .dataframe tbody tr th:only-of-type {\n",
              "        vertical-align: middle;\n",
              "    }\n",
              "\n",
              "    .dataframe tbody tr th {\n",
              "        vertical-align: top;\n",
              "    }\n",
              "\n",
              "    .dataframe thead th {\n",
              "        text-align: right;\n",
              "    }\n",
              "</style>\n",
              "<table border=\"1\" class=\"dataframe\">\n",
              "  <thead>\n",
              "    <tr style=\"text-align: right;\">\n",
              "      <th></th>\n",
              "      <th>NU_NOTA_CN</th>\n",
              "      <th>NU_NOTA_CH</th>\n",
              "      <th>NU_NOTA_LC</th>\n",
              "      <th>NU_NOTA_MT</th>\n",
              "      <th>NU_NOTA_COMP1</th>\n",
              "      <th>NU_NOTA_COMP2</th>\n",
              "      <th>NU_NOTA_COMP3</th>\n",
              "      <th>NU_NOTA_COMP4</th>\n",
              "      <th>NU_NOTA_COMP5</th>\n",
              "      <th>NU_NOTA_REDACAO</th>\n",
              "    </tr>\n",
              "  </thead>\n",
              "  <tbody>\n",
              "    <tr>\n",
              "      <th>1</th>\n",
              "      <td>505.9</td>\n",
              "      <td>551.8</td>\n",
              "      <td>498.3</td>\n",
              "      <td>461.5</td>\n",
              "      <td>120.0</td>\n",
              "      <td>120.0</td>\n",
              "      <td>120.0</td>\n",
              "      <td>120.0</td>\n",
              "      <td>80.0</td>\n",
              "      <td>560.0</td>\n",
              "    </tr>\n",
              "    <tr>\n",
              "      <th>3</th>\n",
              "      <td>580.7</td>\n",
              "      <td>678.9</td>\n",
              "      <td>638.9</td>\n",
              "      <td>659.5</td>\n",
              "      <td>120.0</td>\n",
              "      <td>180.0</td>\n",
              "      <td>120.0</td>\n",
              "      <td>200.0</td>\n",
              "      <td>160.0</td>\n",
              "      <td>780.0</td>\n",
              "    </tr>\n",
              "    <tr>\n",
              "      <th>4</th>\n",
              "      <td>497.7</td>\n",
              "      <td>532.4</td>\n",
              "      <td>457.6</td>\n",
              "      <td>582.6</td>\n",
              "      <td>120.0</td>\n",
              "      <td>140.0</td>\n",
              "      <td>160.0</td>\n",
              "      <td>180.0</td>\n",
              "      <td>180.0</td>\n",
              "      <td>780.0</td>\n",
              "    </tr>\n",
              "    <tr>\n",
              "      <th>8</th>\n",
              "      <td>487.4</td>\n",
              "      <td>476.5</td>\n",
              "      <td>450.7</td>\n",
              "      <td>493.4</td>\n",
              "      <td>120.0</td>\n",
              "      <td>120.0</td>\n",
              "      <td>80.0</td>\n",
              "      <td>100.0</td>\n",
              "      <td>100.0</td>\n",
              "      <td>520.0</td>\n",
              "    </tr>\n",
              "    <tr>\n",
              "      <th>9</th>\n",
              "      <td>507.6</td>\n",
              "      <td>539.2</td>\n",
              "      <td>494.6</td>\n",
              "      <td>413.3</td>\n",
              "      <td>80.0</td>\n",
              "      <td>120.0</td>\n",
              "      <td>80.0</td>\n",
              "      <td>80.0</td>\n",
              "      <td>20.0</td>\n",
              "      <td>380.0</td>\n",
              "    </tr>\n",
              "  </tbody>\n",
              "</table>\n",
              "</div>"
            ],
            "text/plain": [
              "   NU_NOTA_CN  NU_NOTA_CH  NU_NOTA_LC  NU_NOTA_MT  NU_NOTA_COMP1  \\\n",
              "1       505.9       551.8       498.3       461.5          120.0   \n",
              "3       580.7       678.9       638.9       659.5          120.0   \n",
              "4       497.7       532.4       457.6       582.6          120.0   \n",
              "8       487.4       476.5       450.7       493.4          120.0   \n",
              "9       507.6       539.2       494.6       413.3           80.0   \n",
              "\n",
              "   NU_NOTA_COMP2  NU_NOTA_COMP3  NU_NOTA_COMP4  NU_NOTA_COMP5  NU_NOTA_REDACAO  \n",
              "1          120.0          120.0          120.0           80.0            560.0  \n",
              "3          180.0          120.0          200.0          160.0            780.0  \n",
              "4          140.0          160.0          180.0          180.0            780.0  \n",
              "8          120.0           80.0          100.0          100.0            520.0  \n",
              "9          120.0           80.0           80.0           20.0            380.0  "
            ]
          },
          "execution_count": 32,
          "metadata": {},
          "output_type": "execute_result"
        }
      ],
      "source": [
        "Base_Dados.head(5)"
      ]
    },
    {
      "attachments": {},
      "cell_type": "markdown",
      "metadata": {
        "id": "G0a4gltcOR1F"
      },
      "source": [
        "## **Avaliar as métricas de erro**"
      ]
    },
    {
      "attachments": {},
      "cell_type": "markdown",
      "metadata": {
        "id": "-JyycP2yPLc6"
      },
      "source": [
        "![image.png](data:image/png;base64,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)"
      ]
    },
    {
      "attachments": {},
      "cell_type": "markdown",
      "metadata": {
        "id": "ibuzxmmNOV_u"
      },
      "source": [
        "### **r²**"
      ]
    },
    {
      "attachments": {},
      "cell_type": "markdown",
      "metadata": {
        "id": "F0ZtHa17Oam-"
      },
      "source": [
        "O r², também chamado de coeficiente de determinação, é uma medida de quão bem os dados se ajustam a uma linha ou curva de regressão. Ele representa a proporção da variância total na variável dependente que é explicada pela variável independente(s) incluída(s) no modelo de regressão."
      ]
    },
    {
      "attachments": {},
      "cell_type": "markdown",
      "metadata": {
        "id": "MrO6g4BeOc_Y"
      },
      "source": [
        "O valor do r² **varia de 0 a 1**, sendo que um **valor de 1 indica que a linha ou curva de regressão se ajusta perfeitamente aos dados**, explicando toda a variância na variável dependente. Por outro lado, um valor de **0 indica que o modelo de regressão não explica nenhuma variância na variável dependente**."
      ]
    },
    {
      "cell_type": "code",
      "execution_count": 33,
      "metadata": {
        "colab": {
          "base_uri": "https://localhost:8080/"
        },
        "id": "H1bhfavGOgyH",
        "outputId": "a33fbac8-3f66-4d60-bd0b-8f5f5fa8f3ee"
      },
      "outputs": [
        {
          "name": "stdout",
          "output_type": "stream",
          "text": [
            "r²: 1.0\n"
          ]
        }
      ],
      "source": [
        "# Funçção do r²\n",
        "from sklearn.metrics import r2_score\n",
        "\n",
        "r2 = r2_score( y_teste, Previsoes )\n",
        "print('r²:', r2 )"
      ]
    },
    {
      "attachments": {},
      "cell_type": "markdown",
      "metadata": {
        "id": "GB1mPStgPSor"
      },
      "source": [
        "### **MAE**"
      ]
    },
    {
      "attachments": {},
      "cell_type": "markdown",
      "metadata": {
        "id": "tpcNkGPbPYiD"
      },
      "source": [
        "MAE (Mean Absolute Error) é uma métrica comumente utilizada para avaliar a qualidade de modelos de regressão. Ele mede a média das diferenças absolutas entre as previsões do modelo e os valores observados.\n",
        "\n",
        "O cálculo do MAE é simples: para cada valor observado yi e valor previsto ŷi, calcula-se a diferença absoluta |yi - ŷi| e, em seguida, faz-se a média dessas diferenças absolutas para obter o MAE"
      ]
    },
    {
      "cell_type": "code",
      "execution_count": 34,
      "metadata": {
        "colab": {
          "base_uri": "https://localhost:8080/"
        },
        "id": "Hf6MdYtpPftF",
        "outputId": "156df073-b197-489a-fb25-0c520a1aeea6"
      },
      "outputs": [
        {
          "name": "stdout",
          "output_type": "stream",
          "text": [
            "mae: 9.060925671463043e-14\n"
          ]
        }
      ],
      "source": [
        "from sklearn.metrics import mean_absolute_error\n",
        "\n",
        "mae = mean_absolute_error( y_teste, Previsoes )\n",
        "print('mae:', mae )"
      ]
    },
    {
      "attachments": {},
      "cell_type": "markdown",
      "metadata": {
        "id": "kg-ExigLldte"
      },
      "source": [
        "### **MSE**"
      ]
    },
    {
      "attachments": {},
      "cell_type": "markdown",
      "metadata": {
        "id": "V06WIH_9lh4N"
      },
      "source": [
        "O MSE (Mean Squared Error) é uma métrica de erro comumente usada em modelos de previsão ou regressão. Ele mede a média dos erros quadrados entre as previsões e os valores reais."
      ]
    },
    {
      "attachments": {},
      "cell_type": "markdown",
      "metadata": {
        "id": "qO5PpG-InK18"
      },
      "source": [
        "O MSE é uma métrica útil porque fornece uma medida precisa da magnitude do erro em relação aos valores reais. No entanto, assim como o RMSE e o MAPE, o MSE pode ser afetado por valores extremos ou discrepantes nos dados. Além disso, como o MSE é uma métrica quadrática, ele pode ser difícil de interpretar diretamente em termos de unidades de medida originais dos dados."
      ]
    },
    {
      "cell_type": "code",
      "execution_count": 35,
      "metadata": {
        "colab": {
          "base_uri": "https://localhost:8080/"
        },
        "id": "BfbnArgllmG1",
        "outputId": "2ecb255b-b391-4ced-f313-2fa76cc326c2"
      },
      "outputs": [
        {
          "name": "stdout",
          "output_type": "stream",
          "text": [
            "mse: 1.5011142625860552e-26\n"
          ]
        }
      ],
      "source": [
        "from sklearn.metrics import mean_squared_error\n",
        "\n",
        "mse = mean_squared_error( y_teste, Previsoes )\n",
        "print('mse:', mse )"
      ]
    },
    {
      "attachments": {},
      "cell_type": "markdown",
      "metadata": {
        "id": "gRjaj_cglZyh"
      },
      "source": [
        "### **RMSE**"
      ]
    },
    {
      "attachments": {},
      "cell_type": "markdown",
      "metadata": {
        "id": "-LpmFec0lhWq"
      },
      "source": [
        "O RMSE (Root Mean Squared Error) é outra métrica usada para avaliar a precisão de modelos de previsão ou regressão. O RMSE é calculado como a raiz quadrada da média dos erros quadrados entre as previsões e os valores reais."
      ]
    },
    {
      "attachments": {},
      "cell_type": "markdown",
      "metadata": {
        "id": "jq8aiJcsm8dP"
      },
      "source": [
        "O RMSE é uma medida útil de erro porque penaliza mais os erros maiores, o que significa que ele fornece uma ideia mais precisa da magnitude dos erros em relação aos valores reais. No entanto, assim como o MAPE, o RMSE pode ser afetado por valores extremos e pode ser enganoso se houver valores extremos ou discrepantes nos dados."
      ]
    },
    {
      "cell_type": "code",
      "execution_count": 36,
      "metadata": {
        "colab": {
          "base_uri": "https://localhost:8080/"
        },
        "id": "5-SP__xPlltm",
        "outputId": "b6f752ee-e03d-4111-d4a4-c01825d77c29"
      },
      "outputs": [
        {
          "name": "stdout",
          "output_type": "stream",
          "text": [
            "rmse: 1.2251996827399424e-13\n"
          ]
        }
      ],
      "source": [
        "from sklearn.metrics import mean_squared_error\n",
        "\n",
        "rmse = mean_squared_error( y_teste, Previsoes, squared=False )\n",
        "print('rmse:', rmse )"
      ]
    },
    {
      "attachments": {},
      "cell_type": "markdown",
      "metadata": {
        "id": "6-BXTAgUlfZb"
      },
      "source": [
        "### **MAPE**"
      ]
    },
    {
      "attachments": {},
      "cell_type": "markdown",
      "metadata": {
        "id": "jom6W7GFlifP"
      },
      "source": [
        "O MAPE (Mean Absolute Percentage Error) é uma métrica usada para avaliar a precisão de modelos de previsão ou regressão. Ele mede a porcentagem média do erro absoluto em relação aos valores reais."
      ]
    },
    {
      "attachments": {},
      "cell_type": "markdown",
      "metadata": {
        "id": "LD-6F0N7mvM2"
      },
      "source": [
        "O MAPE é uma métrica útil porque fornece uma medida da magnitude do erro em relação ao tamanho real da amostra, o que facilita a comparação entre diferentes conjuntos de dados."
      ]
    },
    {
      "cell_type": "code",
      "execution_count": 37,
      "metadata": {
        "colab": {
          "base_uri": "https://localhost:8080/"
        },
        "id": "cqvrLltnlmj0",
        "outputId": "8c2783e3-eb3e-48af-8e0a-53575ae86ff7"
      },
      "outputs": [
        {
          "name": "stdout",
          "output_type": "stream",
          "text": [
            "mape: 43.86634611290099\n"
          ]
        }
      ],
      "source": [
        "from sklearn.metrics import mean_absolute_percentage_error\n",
        "\n",
        "mape = mean_absolute_percentage_error( y_teste, Previsoes) * 100\n",
        "print('mape:', mape )"
      ]
    },
    {
      "cell_type": "code",
      "execution_count": 38,
      "metadata": {
        "colab": {
          "base_uri": "https://localhost:8080/",
          "height": 206
        },
        "id": "xV_AGIiE7aJ-",
        "outputId": "e266e946-8f30-483b-a680-84114c6bdeec"
      },
      "outputs": [
        {
          "data": {
            "text/html": [
              "<div>\n",
              "<style scoped>\n",
              "    .dataframe tbody tr th:only-of-type {\n",
              "        vertical-align: middle;\n",
              "    }\n",
              "\n",
              "    .dataframe tbody tr th {\n",
              "        vertical-align: top;\n",
              "    }\n",
              "\n",
              "    .dataframe thead th {\n",
              "        text-align: right;\n",
              "    }\n",
              "</style>\n",
              "<table border=\"1\" class=\"dataframe\">\n",
              "  <thead>\n",
              "    <tr style=\"text-align: right;\">\n",
              "      <th></th>\n",
              "      <th>Valor da métrica</th>\n",
              "    </tr>\n",
              "  </thead>\n",
              "  <tbody>\n",
              "    <tr>\n",
              "      <th>R²</th>\n",
              "      <td>1.000000e+00</td>\n",
              "    </tr>\n",
              "    <tr>\n",
              "      <th>MAE</th>\n",
              "      <td>9.060926e-14</td>\n",
              "    </tr>\n",
              "    <tr>\n",
              "      <th>MSE</th>\n",
              "      <td>1.501114e-26</td>\n",
              "    </tr>\n",
              "    <tr>\n",
              "      <th>RMSE</th>\n",
              "      <td>1.225200e-13</td>\n",
              "    </tr>\n",
              "    <tr>\n",
              "      <th>MAPE</th>\n",
              "      <td>4.386635e+01</td>\n",
              "    </tr>\n",
              "  </tbody>\n",
              "</table>\n",
              "</div>"
            ],
            "text/plain": [
              "      Valor da métrica\n",
              "R²        1.000000e+00\n",
              "MAE       9.060926e-14\n",
              "MSE       1.501114e-26\n",
              "RMSE      1.225200e-13\n",
              "MAPE      4.386635e+01"
            ]
          },
          "execution_count": 38,
          "metadata": {},
          "output_type": "execute_result"
        }
      ],
      "source": [
        "# Avaliar todas as métricas\n",
        "\n",
        "Dicionario = {\n",
        "    'R²' : r2,\n",
        "    'MAE' : mae,\n",
        "    'MSE' : mse,\n",
        "    'RMSE' : rmse,\n",
        "    'MAPE' : mape\n",
        "}\n",
        "\n",
        "pd.DataFrame( Dicionario, index=[0] ).transpose().rename( columns={ 0 : 'Valor da métrica'} )"
      ]
    },
    {
      "attachments": {},
      "cell_type": "markdown",
      "metadata": {
        "id": "CeksaB8mq1u9"
      },
      "source": [
        "**R²:** O valor de 0.907566 indica que o modelo explica 90,76% da variabilidade dos dados, o que é considerado um bom ajuste do modelo."
      ]
    },
    {
      "attachments": {},
      "cell_type": "markdown",
      "metadata": {
        "id": "Rr8VG26Dq7S-"
      },
      "source": [
        "**MAE:** O valor de 166.520426 indica que, em média, as previsões do modelo têm um erro absoluto médio de 166,52 unidades em relação aos valores reais.\n",
        "\n"
      ]
    },
    {
      "attachments": {},
      "cell_type": "markdown",
      "metadata": {
        "id": "KHp0pcHPq-Qh"
      },
      "source": [
        "MSE: O valor de 46739.599764 indica que, em média, as previsões do modelo têm um erro quadrático médio de 46739,60 unidades em relação aos valores reais.\n",
        "\n"
      ]
    },
    {
      "attachments": {},
      "cell_type": "markdown",
      "metadata": {
        "id": "C0LPsYEvrBRP"
      },
      "source": [
        "**RMSE**: O valor de 216.193431 indica que, em média, as previsões do modelo têm um erro médio quadrático de 216,19 unidades em relação aos valores reais. O RMSE é a raiz quadrada do MSE, o que significa que o RMSE fornece uma medida de erro mais interpretável, em unidades das variáveis originais.\n",
        "\n"
      ]
    },
    {
      "attachments": {},
      "cell_type": "markdown",
      "metadata": {
        "id": "S3hcYPuSrGjd"
      },
      "source": [
        "**MAPE:** O valor de 7.164499 indica que, em média, as previsões do modelo têm um erro percentual absoluto médio de 7,16% em relação aos valores reais.\n",
        "\n"
      ]
    }
  ],
  "metadata": {
    "colab": {
      "provenance": []
    },
    "kernelspec": {
      "display_name": "Python 3",
      "name": "python3"
    },
    "language_info": {
      "codemirror_mode": {
        "name": "ipython",
        "version": 3
      },
      "file_extension": ".py",
      "mimetype": "text/x-python",
      "name": "python",
      "nbconvert_exporter": "python",
      "pygments_lexer": "ipython3",
      "version": "3.10.11"
    }
  },
  "nbformat": 4,
  "nbformat_minor": 0
}
